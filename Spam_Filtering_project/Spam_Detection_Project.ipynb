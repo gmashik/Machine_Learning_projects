{
  "nbformat": 4,
  "nbformat_minor": 0,
  "metadata": {
    "colab": {
      "name": "Spam_Detection_Project.ipynb",
      "provenance": [],
      "collapsed_sections": []
    },
    "kernelspec": {
      "name": "python3",
      "display_name": "Python 3"
    }
  },
  "cells": [
    {
      "cell_type": "markdown",
      "metadata": {
        "id": "zmJtWOZ3cr78",
        "colab_type": "text"
      },
      "source": [
        "# **Text Message Spam Detection**"
      ]
    },
    {
      "cell_type": "markdown",
      "metadata": {
        "id": "FlpR6Cp_cZZN",
        "colab_type": "text"
      },
      "source": [
        "We'll be using a dataset from the [UCI datasets](https://archive.ics.uci.edu/ml/datasets/SMS+Spam+Collection)! The file we are using contains a collection of more than 5 thousand SMS phone messages."
      ]
    },
    {
      "cell_type": "code",
      "metadata": {
        "id": "pDNrNp1kcIB4",
        "colab_type": "code",
        "colab": {
          "base_uri": "https://localhost:8080/",
          "height": 72
        },
        "outputId": "66003aa7-25f8-465a-b23b-67d7e872dc8f"
      },
      "source": [
        "import numpy as np\n",
        "import pandas as pd\n",
        "import matplotlib.pyplot as plt\n",
        "import seaborn as sns\n",
        "import nltk\n",
        "import string\n",
        "from nltk.corpus import stopwords\n",
        "from sklearn.feature_extraction.text import CountVectorizer\n",
        "from sklearn.feature_extraction.text import TfidfTransformer\n",
        "from sklearn.naive_bayes import MultinomialNB\n",
        "from sklearn.model_selection import train_test_split\n",
        "from sklearn.pipeline import Pipeline\n",
        "from sklearn.metrics import classification_report\n",
        "from sklearn.ensemble import RandomForestClassifier\n",
        "from sklearn.naive_bayes import GaussianNB\n",
        "from sklearn.naive_bayes import BernoulliNB"
      ],
      "execution_count": 3,
      "outputs": [
        {
          "output_type": "stream",
          "text": [
            "/usr/local/lib/python3.6/dist-packages/statsmodels/tools/_testing.py:19: FutureWarning: pandas.util.testing is deprecated. Use the functions in the public API at pandas.testing instead.\n",
            "  import pandas.util.testing as tm\n"
          ],
          "name": "stderr"
        }
      ]
    },
    {
      "cell_type": "markdown",
      "metadata": {
        "id": "5x-0lQ9KdH8D",
        "colab_type": "text"
      },
      "source": [
        "load **NLTK** stopwords from the download shell"
      ]
    },
    {
      "cell_type": "code",
      "metadata": {
        "id": "4y5CvMENdFu1",
        "colab_type": "code",
        "colab": {
          "base_uri": "https://localhost:8080/",
          "height": 277
        },
        "outputId": "b2685048-a498-46cc-cb8e-52b071545498"
      },
      "source": [
        "#after running nltk.download_shell() press l to see packages \n",
        "#we need stopwords pacakage for this project so press\n",
        "# d for download and type stopwords in the shell and press enter\n",
        "\n",
        "nltk.download_shell()\n"
      ],
      "execution_count": 4,
      "outputs": [
        {
          "output_type": "stream",
          "text": [
            "NLTK Downloader\n",
            "---------------------------------------------------------------------------\n",
            "    d) Download   l) List    u) Update   c) Config   h) Help   q) Quit\n",
            "---------------------------------------------------------------------------\n",
            "Downloader> d\n",
            "\n",
            "Download which package (l=list; x=cancel)?\n",
            "  Identifier> stopwords\n",
            "    Downloading package stopwords to /root/nltk_data...\n",
            "      Unzipping corpora/stopwords.zip.\n",
            "\n",
            "---------------------------------------------------------------------------\n",
            "    d) Download   l) List    u) Update   c) Config   h) Help   q) Quit\n",
            "---------------------------------------------------------------------------\n",
            "Downloader> q\n"
          ],
          "name": "stdout"
        }
      ]
    },
    {
      "cell_type": "markdown",
      "metadata": {
        "id": "WtNjyYccda54",
        "colab_type": "text"
      },
      "source": [
        "Load our data"
      ]
    },
    {
      "cell_type": "code",
      "metadata": {
        "id": "NMVVGxFo0fmy",
        "colab_type": "code",
        "colab": {
          "base_uri": "https://localhost:8080/",
          "height": 208
        },
        "outputId": "d0fa4e55-843b-4e49-951d-d3831afec075"
      },
      "source": [
        "!wget https://raw.githubusercontent.com/gmashik/Machine_learning_projects/master/Spam_Filtering_project/data/SMSSpamCollection1"
      ],
      "execution_count": 13,
      "outputs": [
        {
          "output_type": "stream",
          "text": [
            "--2020-09-01 18:25:58--  https://raw.githubusercontent.com/gmashik/Machine_learning_projects/master/Spam_Filtering_project/data/SMSSpamCollection1\n",
            "Resolving raw.githubusercontent.com (raw.githubusercontent.com)... 151.101.0.133, 151.101.64.133, 151.101.128.133, ...\n",
            "Connecting to raw.githubusercontent.com (raw.githubusercontent.com)|151.101.0.133|:443... connected.\n",
            "HTTP request sent, awaiting response... 200 OK\n",
            "Length: 477907 (467K) [text/plain]\n",
            "Saving to: ‘SMSSpamCollection1’\n",
            "\n",
            "\rSMSSpamCollection1    0%[                    ]       0  --.-KB/s               \rSMSSpamCollection1  100%[===================>] 466.71K  --.-KB/s    in 0.04s   \n",
            "\n",
            "2020-09-01 18:25:58 (11.7 MB/s) - ‘SMSSpamCollection1’ saved [477907/477907]\n",
            "\n"
          ],
          "name": "stdout"
        }
      ]
    },
    {
      "cell_type": "code",
      "metadata": {
        "id": "-1Gp_gGWdTEZ",
        "colab_type": "code",
        "colab": {}
      },
      "source": [
        "#before load please mount your google drive \n",
        "msgdata=pd.read_csv('SMSSpamCollection1',sep='\\t',names=['label','message']) "
      ],
      "execution_count": 15,
      "outputs": []
    },
    {
      "cell_type": "code",
      "metadata": {
        "id": "EEp8RWjEdkmB",
        "colab_type": "code",
        "colab": {
          "base_uri": "https://localhost:8080/",
          "height": 202
        },
        "outputId": "431b4065-73f2-49e2-d7e3-318e4d2bdea0"
      },
      "source": [
        "msgdata.head(5)"
      ],
      "execution_count": 16,
      "outputs": [
        {
          "output_type": "execute_result",
          "data": {
            "text/html": [
              "<div>\n",
              "<style scoped>\n",
              "    .dataframe tbody tr th:only-of-type {\n",
              "        vertical-align: middle;\n",
              "    }\n",
              "\n",
              "    .dataframe tbody tr th {\n",
              "        vertical-align: top;\n",
              "    }\n",
              "\n",
              "    .dataframe thead th {\n",
              "        text-align: right;\n",
              "    }\n",
              "</style>\n",
              "<table border=\"1\" class=\"dataframe\">\n",
              "  <thead>\n",
              "    <tr style=\"text-align: right;\">\n",
              "      <th></th>\n",
              "      <th>label</th>\n",
              "      <th>message</th>\n",
              "    </tr>\n",
              "  </thead>\n",
              "  <tbody>\n",
              "    <tr>\n",
              "      <th>0</th>\n",
              "      <td>ham</td>\n",
              "      <td>Go until jurong point, crazy.. Available only ...</td>\n",
              "    </tr>\n",
              "    <tr>\n",
              "      <th>1</th>\n",
              "      <td>ham</td>\n",
              "      <td>Ok lar... Joking wif u oni...</td>\n",
              "    </tr>\n",
              "    <tr>\n",
              "      <th>2</th>\n",
              "      <td>spam</td>\n",
              "      <td>Free entry in 2 a wkly comp to win FA Cup fina...</td>\n",
              "    </tr>\n",
              "    <tr>\n",
              "      <th>3</th>\n",
              "      <td>ham</td>\n",
              "      <td>U dun say so early hor... U c already then say...</td>\n",
              "    </tr>\n",
              "    <tr>\n",
              "      <th>4</th>\n",
              "      <td>ham</td>\n",
              "      <td>Nah I don't think he goes to usf, he lives aro...</td>\n",
              "    </tr>\n",
              "  </tbody>\n",
              "</table>\n",
              "</div>"
            ],
            "text/plain": [
              "  label                                            message\n",
              "0   ham  Go until jurong point, crazy.. Available only ...\n",
              "1   ham                      Ok lar... Joking wif u oni...\n",
              "2  spam  Free entry in 2 a wkly comp to win FA Cup fina...\n",
              "3   ham  U dun say so early hor... U c already then say...\n",
              "4   ham  Nah I don't think he goes to usf, he lives aro..."
            ]
          },
          "metadata": {
            "tags": []
          },
          "execution_count": 16
        }
      ]
    },
    {
      "cell_type": "markdown",
      "metadata": {
        "id": "lFnDqjPQepqk",
        "colab_type": "text"
      },
      "source": [
        "Using these labeled ham and spam examples, we'll **train a machine learning model to learn to discriminate between ham/spam automatically**. Then, with a trained model, we'll be able to **classify arbitrary unlabeled messages** as ham or spam. We'll explore our data first\n"
      ]
    },
    {
      "cell_type": "code",
      "metadata": {
        "id": "LoI_d5eLedLZ",
        "colab_type": "code",
        "colab": {
          "base_uri": "https://localhost:8080/",
          "height": 171
        },
        "outputId": "2c6fae0c-ce33-441a-a264-f96f21f04773"
      },
      "source": [
        "msgdata.groupby('label').describe()"
      ],
      "execution_count": 17,
      "outputs": [
        {
          "output_type": "execute_result",
          "data": {
            "text/html": [
              "<div>\n",
              "<style scoped>\n",
              "    .dataframe tbody tr th:only-of-type {\n",
              "        vertical-align: middle;\n",
              "    }\n",
              "\n",
              "    .dataframe tbody tr th {\n",
              "        vertical-align: top;\n",
              "    }\n",
              "\n",
              "    .dataframe thead tr th {\n",
              "        text-align: left;\n",
              "    }\n",
              "\n",
              "    .dataframe thead tr:last-of-type th {\n",
              "        text-align: right;\n",
              "    }\n",
              "</style>\n",
              "<table border=\"1\" class=\"dataframe\">\n",
              "  <thead>\n",
              "    <tr>\n",
              "      <th></th>\n",
              "      <th colspan=\"4\" halign=\"left\">message</th>\n",
              "    </tr>\n",
              "    <tr>\n",
              "      <th></th>\n",
              "      <th>count</th>\n",
              "      <th>unique</th>\n",
              "      <th>top</th>\n",
              "      <th>freq</th>\n",
              "    </tr>\n",
              "    <tr>\n",
              "      <th>label</th>\n",
              "      <th></th>\n",
              "      <th></th>\n",
              "      <th></th>\n",
              "      <th></th>\n",
              "    </tr>\n",
              "  </thead>\n",
              "  <tbody>\n",
              "    <tr>\n",
              "      <th>ham</th>\n",
              "      <td>4825</td>\n",
              "      <td>4516</td>\n",
              "      <td>Sorry, I'll call later</td>\n",
              "      <td>30</td>\n",
              "    </tr>\n",
              "    <tr>\n",
              "      <th>spam</th>\n",
              "      <td>747</td>\n",
              "      <td>653</td>\n",
              "      <td>Please call our customer service representativ...</td>\n",
              "      <td>4</td>\n",
              "    </tr>\n",
              "  </tbody>\n",
              "</table>\n",
              "</div>"
            ],
            "text/plain": [
              "      message                                                               \n",
              "        count unique                                                top freq\n",
              "label                                                                       \n",
              "ham      4825   4516                             Sorry, I'll call later   30\n",
              "spam      747    653  Please call our customer service representativ...    4"
            ]
          },
          "metadata": {
            "tags": []
          },
          "execution_count": 17
        }
      ]
    },
    {
      "cell_type": "markdown",
      "metadata": {
        "id": "tdTQDn-KfKoJ",
        "colab_type": "text"
      },
      "source": [
        "We can see we have 4516 unique ham/not spam message and most frequent is \"Sorry, I'll call later\". We have got this 30 times. Similarly we have 653 unique spam email. and highest frequency of the repeated message is 4."
      ]
    },
    {
      "cell_type": "markdown",
      "metadata": {
        "id": "lrO4ywHPf4q2",
        "colab_type": "text"
      },
      "source": [
        "As we continue our analysis we want to start thinking about the features we are going to be using. This goes along with the general idea of feature engineering. We need a good domain knowledge on the data. Feature engineering is a very large part of spam detection in general. \n",
        "We'll make a new column to detect how long the text messages are:"
      ]
    },
    {
      "cell_type": "code",
      "metadata": {
        "id": "UHADbbBMfIGc",
        "colab_type": "code",
        "colab": {}
      },
      "source": [
        "msgdata['length']=msgdata['message'].apply(len)"
      ],
      "execution_count": 18,
      "outputs": []
    },
    {
      "cell_type": "code",
      "metadata": {
        "id": "sBblypFvgUbZ",
        "colab_type": "code",
        "colab": {
          "base_uri": "https://localhost:8080/",
          "height": 202
        },
        "outputId": "2b4cb794-ce64-4262-bb53-2df8bf96fc4d"
      },
      "source": [
        "msgdata.head()"
      ],
      "execution_count": 19,
      "outputs": [
        {
          "output_type": "execute_result",
          "data": {
            "text/html": [
              "<div>\n",
              "<style scoped>\n",
              "    .dataframe tbody tr th:only-of-type {\n",
              "        vertical-align: middle;\n",
              "    }\n",
              "\n",
              "    .dataframe tbody tr th {\n",
              "        vertical-align: top;\n",
              "    }\n",
              "\n",
              "    .dataframe thead th {\n",
              "        text-align: right;\n",
              "    }\n",
              "</style>\n",
              "<table border=\"1\" class=\"dataframe\">\n",
              "  <thead>\n",
              "    <tr style=\"text-align: right;\">\n",
              "      <th></th>\n",
              "      <th>label</th>\n",
              "      <th>message</th>\n",
              "      <th>length</th>\n",
              "    </tr>\n",
              "  </thead>\n",
              "  <tbody>\n",
              "    <tr>\n",
              "      <th>0</th>\n",
              "      <td>ham</td>\n",
              "      <td>Go until jurong point, crazy.. Available only ...</td>\n",
              "      <td>111</td>\n",
              "    </tr>\n",
              "    <tr>\n",
              "      <th>1</th>\n",
              "      <td>ham</td>\n",
              "      <td>Ok lar... Joking wif u oni...</td>\n",
              "      <td>29</td>\n",
              "    </tr>\n",
              "    <tr>\n",
              "      <th>2</th>\n",
              "      <td>spam</td>\n",
              "      <td>Free entry in 2 a wkly comp to win FA Cup fina...</td>\n",
              "      <td>155</td>\n",
              "    </tr>\n",
              "    <tr>\n",
              "      <th>3</th>\n",
              "      <td>ham</td>\n",
              "      <td>U dun say so early hor... U c already then say...</td>\n",
              "      <td>49</td>\n",
              "    </tr>\n",
              "    <tr>\n",
              "      <th>4</th>\n",
              "      <td>ham</td>\n",
              "      <td>Nah I don't think he goes to usf, he lives aro...</td>\n",
              "      <td>61</td>\n",
              "    </tr>\n",
              "  </tbody>\n",
              "</table>\n",
              "</div>"
            ],
            "text/plain": [
              "  label                                            message  length\n",
              "0   ham  Go until jurong point, crazy.. Available only ...     111\n",
              "1   ham                      Ok lar... Joking wif u oni...      29\n",
              "2  spam  Free entry in 2 a wkly comp to win FA Cup fina...     155\n",
              "3   ham  U dun say so early hor... U c already then say...      49\n",
              "4   ham  Nah I don't think he goes to usf, he lives aro...      61"
            ]
          },
          "metadata": {
            "tags": []
          },
          "execution_count": 19
        }
      ]
    },
    {
      "cell_type": "code",
      "metadata": {
        "id": "k_NiBDoUgWED",
        "colab_type": "code",
        "colab": {
          "base_uri": "https://localhost:8080/",
          "height": 297
        },
        "outputId": "9591138b-8ba6-4b29-fd7b-fab54376a4c5"
      },
      "source": [
        "sns.distplot(msgdata['length'],bins=30,kde=False)"
      ],
      "execution_count": 20,
      "outputs": [
        {
          "output_type": "execute_result",
          "data": {
            "text/plain": [
              "<matplotlib.axes._subplots.AxesSubplot at 0x7fb4259b1cc0>"
            ]
          },
          "metadata": {
            "tags": []
          },
          "execution_count": 20
        },
        {
          "output_type": "display_data",
          "data": {
            "image/png": "[encoded data removed]",
            "text/plain": [
              "<Figure size 432x288 with 1 Axes>"
            ]
          },
          "metadata": {
            "tags": [],
            "needs_background": "light"
          }
        }
      ]
    },
    {
      "cell_type": "code",
      "metadata": {
        "id": "0Q3wR_uQgg7f",
        "colab_type": "code",
        "colab": {
          "base_uri": "https://localhost:8080/",
          "height": 297
        },
        "outputId": "7ee08aa3-a388-47e1-8289-3d489cf01fc1"
      },
      "source": [
        "sns.distplot(msgdata['length'],bins=200,kde=False)"
      ],
      "execution_count": 21,
      "outputs": [
        {
          "output_type": "execute_result",
          "data": {
            "text/plain": [
              "<matplotlib.axes._subplots.AxesSubplot at 0x7fb425812278>"
            ]
          },
          "metadata": {
            "tags": []
          },
          "execution_count": 21
        },
        {
          "output_type": "display_data",
          "data": {
            "image/png": "[encoded data removed]",
            "text/plain": [
              "<Figure size 432x288 with 1 Axes>"
            ]
          },
          "metadata": {
            "tags": [],
            "needs_background": "light"
          }
        }
      ]
    },
    {
      "cell_type": "markdown",
      "metadata": {
        "id": "AbbPRC01gpA2",
        "colab_type": "text"
      },
      "source": [
        "We've got a bimodal distriubution with increased number of bins"
      ]
    },
    {
      "cell_type": "code",
      "metadata": {
        "id": "L13fUgmOgniS",
        "colab_type": "code",
        "colab": {
          "base_uri": "https://localhost:8080/",
          "height": 283
        },
        "outputId": "45d9998a-d9de-4928-b71e-6fceee65ba94"
      },
      "source": [
        "msgdata['length'].hist(bins=150)"
      ],
      "execution_count": 22,
      "outputs": [
        {
          "output_type": "execute_result",
          "data": {
            "text/plain": [
              "<matplotlib.axes._subplots.AxesSubplot at 0x7fb4250a6ef0>"
            ]
          },
          "metadata": {
            "tags": []
          },
          "execution_count": 22
        },
        {
          "output_type": "display_data",
          "data": {
            "image/png": "[encoded data removed]",
            "text/plain": [
              "<Figure size 432x288 with 1 Axes>"
            ]
          },
          "metadata": {
            "tags": [],
            "needs_background": "light"
          }
        }
      ]
    },
    {
      "cell_type": "markdown",
      "metadata": {
        "id": "R2bhkLochIOs",
        "colab_type": "text"
      },
      "source": [
        "If we look carefully we can see that some outliers. Let's try to explain why the x-axis goes all the way to 1000ish, this must mean that there is some really long message!"
      ]
    },
    {
      "cell_type": "code",
      "metadata": {
        "id": "BeyZd5big8BJ",
        "colab_type": "code",
        "colab": {
          "base_uri": "https://localhost:8080/",
          "height": 173
        },
        "outputId": "f90eb85f-5720-459c-b4a9-468eef02d7a2"
      },
      "source": [
        "msgdata.length.describe()"
      ],
      "execution_count": 23,
      "outputs": [
        {
          "output_type": "execute_result",
          "data": {
            "text/plain": [
              "count    5572.000000\n",
              "mean       80.489950\n",
              "std        59.942907\n",
              "min         2.000000\n",
              "25%        36.000000\n",
              "50%        62.000000\n",
              "75%       122.000000\n",
              "max       910.000000\n",
              "Name: length, dtype: float64"
            ]
          },
          "metadata": {
            "tags": []
          },
          "execution_count": 23
        }
      ]
    },
    {
      "cell_type": "markdown",
      "metadata": {
        "id": "Zvw2z009hYlP",
        "colab_type": "text"
      },
      "source": [
        "So we have message of length 910."
      ]
    },
    {
      "cell_type": "markdown",
      "metadata": {
        "id": "TwNpcz5ihm4g",
        "colab_type": "text"
      },
      "source": [
        "The longest message is:"
      ]
    },
    {
      "cell_type": "code",
      "metadata": {
        "id": "O9CgSkbEhWTX",
        "colab_type": "code",
        "colab": {
          "base_uri": "https://localhost:8080/",
          "height": 139
        },
        "outputId": "004d9b0b-ae1d-4ddf-b11d-ff7383d62533"
      },
      "source": [
        "msgdata[msgdata['length']==910]['message'].iloc[0]"
      ],
      "execution_count": 24,
      "outputs": [
        {
          "output_type": "execute_result",
          "data": {
            "application/vnd.google.colaboratory.intrinsic+json": {
              "type": "string"
            },
            "text/plain": [
              "\"For me the love should start with attraction.i should feel that I need her every time around me.she should be the first thing which comes in my thoughts.I would start the day and end it with her.she should be there every time I dream.love will be then when my every breath has her name.my life should happen around her.my life will be named to her.I would cry for her.will give all my happiness and take all her sorrows.I will be ready to fight with anyone for her.I will be in love when I will be doing the craziest things for her.love will be when I don't have to proove anyone that my girl is the most beautiful lady on the whole planet.I will always be singing praises for her.love will be when I start up making chicken curry and end up makiing sambar.life will be the most beautiful then.will get every morning and thank god for the day because she is with me.I would like to say a lot..will tell later..\""
            ]
          },
          "metadata": {
            "tags": []
          },
          "execution_count": 24
        }
      ]
    },
    {
      "cell_type": "code",
      "metadata": {
        "id": "jwMkRKdMhpm0",
        "colab_type": "code",
        "colab": {
          "base_uri": "https://localhost:8080/",
          "height": 395
        },
        "outputId": "416af0ef-3399-45c8-dfbe-caae149b20a1"
      },
      "source": [
        "msgdata.hist(column='length',by='label',bins=40,figsize=(13,5))"
      ],
      "execution_count": 25,
      "outputs": [
        {
          "output_type": "execute_result",
          "data": {
            "text/plain": [
              "array([<matplotlib.axes._subplots.AxesSubplot object at 0x7fb424ea3d30>,\n",
              "       <matplotlib.axes._subplots.AxesSubplot object at 0x7fb424e5e7f0>],\n",
              "      dtype=object)"
            ]
          },
          "metadata": {
            "tags": []
          },
          "execution_count": 25
        },
        {
          "output_type": "display_data",
          "data": {
            "image/png": "[encoded data removed]",
            "text/plain": [
              "<Figure size 936x360 with 2 Axes>"
            ]
          },
          "metadata": {
            "tags": [],
            "needs_background": "light"
          }
        }
      ]
    },
    {
      "cell_type": "markdown",
      "metadata": {
        "id": "FePYSJVFiIah",
        "colab_type": "text"
      },
      "source": [
        "Very interesting! Through just basic EDA we've been able to discover a trend that spam messages (their length) tend to have more characters. "
      ]
    },
    {
      "cell_type": "markdown",
      "metadata": {
        "id": "XGo3C65xivCr",
        "colab_type": "text"
      },
      "source": [
        "Our main issue with our data is that it is all in text format (strings). The classification algorithms that we've learned about so far will need some sort of numerical feature vector in order to perform the classification task. There are actually many methods to convert a corpus to a vector format. The simplest is the the bag-of-words approach, where each unique word in a text will be represented by one number.\n",
        "\n",
        "In this section we'll convert the raw messages (sequence of characters) into vectors (sequences of numbers).\n",
        "\n",
        "As a first step, let's write a function that will split a message into its individual words and return a list. We'll also remove very common words, ('the', 'a', etc..). To do this we will take advantage of the NLTK library. It's pretty much the standard library in Python for processing text and has a lot of useful features. We'll only use some of the basic ones here.\n",
        "\n",
        "Let's create a function that will process the string in the message column, then we can just use apply() in pandas do process all the text in the DataFrame.\n"
      ]
    },
    {
      "cell_type": "code",
      "metadata": {
        "id": "GVVMEFY4iscd",
        "colab_type": "code",
        "colab": {}
      },
      "source": [
        "def text_processing(instr): #tokenizing \n",
        "  \"\"\"\n",
        "  1. Remove punctuation form each message \n",
        "  2. Remove Stop words\n",
        "  3. Return processed words\n",
        "  \"\"\"\n",
        "  puncremove=[word for word in instr if word not in string.punctuation]\n",
        "  puncremove=''.join(puncremove)\n",
        "  return [word for word in puncremove.split() if word.lower() not in stopwords.words('english')]"
      ],
      "execution_count": 26,
      "outputs": []
    },
    {
      "cell_type": "code",
      "metadata": {
        "id": "KUODKRFIh-3G",
        "colab_type": "code",
        "colab": {}
      },
      "source": [
        "X_train, X_test, y_train, y_test = train_test_split(msgdata['message'], msgdata['label'], test_size=0.3, random_state=101)"
      ],
      "execution_count": 27,
      "outputs": []
    },
    {
      "cell_type": "code",
      "metadata": {
        "id": "oB9R-4lVkhW2",
        "colab_type": "code",
        "colab": {
          "base_uri": "https://localhost:8080/",
          "height": 35
        },
        "outputId": "70203339-5974-48a7-e770-20ba9a660b1d"
      },
      "source": [
        "print(len(X_train), len(X_test), len(X_train) + len(X_test))"
      ],
      "execution_count": 28,
      "outputs": [
        {
          "output_type": "stream",
          "text": [
            "3900 1672 5572\n"
          ],
          "name": "stdout"
        }
      ]
    },
    {
      "cell_type": "markdown",
      "metadata": {
        "id": "WPsg5q9Oksli",
        "colab_type": "text"
      },
      "source": [
        "We've put 70% data as training set and 30% data as test data"
      ]
    },
    {
      "cell_type": "markdown",
      "metadata": {
        "id": "Oiy9pLq_lAHk",
        "colab_type": "text"
      },
      "source": [
        "**We'll create scikit-learn pipeline**"
      ]
    },
    {
      "cell_type": "markdown",
      "metadata": {
        "id": "TnL5fgrPEOP5",
        "colab_type": "text"
      },
      "source": [
        "Pipeline for naive bayes classifies with Multinomial naive Bayes"
      ]
    },
    {
      "cell_type": "code",
      "metadata": {
        "id": "ODW6kR43krtt",
        "colab_type": "code",
        "colab": {}
      },
      "source": [
        "pipeline1 = Pipeline([\n",
        "    ('Bag_Of_Words', CountVectorizer(analyzer=text_processing)),  # strings to token integer counts\n",
        "    ('TF-IDF', TfidfTransformer()),  # integer counts to weighted TF-IDF scores\n",
        "    ('Classifier', MultinomialNB()),  # train on TF-IDF vectors w/ Naive Bayes classifier\n",
        "])"
      ],
      "execution_count": 29,
      "outputs": []
    },
    {
      "cell_type": "markdown",
      "metadata": {
        "id": "rlSqpwBMEY9W",
        "colab_type": "text"
      },
      "source": [
        "Pipeline for random forest classifier"
      ]
    },
    {
      "cell_type": "code",
      "metadata": {
        "id": "E3lhpMNFmQCV",
        "colab_type": "code",
        "colab": {}
      },
      "source": [
        "pipeline2 = Pipeline([\n",
        "    ('Bag_Of_Words', CountVectorizer(analyzer=text_processing)),  # strings to token integer counts\n",
        "    ('TF-IDF', TfidfTransformer()),  # integer counts to weighted TF-IDF scores\n",
        "    ('Classifier', RandomForestClassifier()),  # train on TF-IDF vectors w/ Naive Bayes classifier\n",
        "])"
      ],
      "execution_count": 30,
      "outputs": []
    },
    {
      "cell_type": "markdown",
      "metadata": {
        "id": "bnV64im0ErNm",
        "colab_type": "text"
      },
      "source": [
        "pipeline for Bernoulli Naive Bayes classifier"
      ]
    },
    {
      "cell_type": "code",
      "metadata": {
        "id": "7MsYwisiEgfE",
        "colab_type": "code",
        "colab": {}
      },
      "source": [
        "pipeline3 = Pipeline([\n",
        "    ('Bag_Of_Words', CountVectorizer(analyzer=text_processing)),  # strings to token integer counts\n",
        "    ('TF-IDF', TfidfTransformer()),  # integer counts to weighted TF-IDF scores\n",
        "    ('Classifier',BernoulliNB()),  # train on TF-IDF vectors w/ Naive Bayes classifier\n",
        "])"
      ],
      "execution_count": 31,
      "outputs": []
    },
    {
      "cell_type": "code",
      "metadata": {
        "id": "EPARoEpKlVps",
        "colab_type": "code",
        "colab": {
          "base_uri": "https://localhost:8080/",
          "height": 312
        },
        "outputId": "bdb99df2-4708-47ac-c88d-a8708a95055c"
      },
      "source": [
        "pipeline1.fit(X_train,y_train)"
      ],
      "execution_count": 32,
      "outputs": [
        {
          "output_type": "execute_result",
          "data": {
            "text/plain": [
              "Pipeline(memory=None,\n",
              "         steps=[('Bag_Of_Words',\n",
              "                 CountVectorizer(analyzer=<function text_processing at 0x7fb424cc2510>,\n",
              "                                 binary=False, decode_error='strict',\n",
              "                                 dtype=<class 'numpy.int64'>, encoding='utf-8',\n",
              "                                 input='content', lowercase=True, max_df=1.0,\n",
              "                                 max_features=None, min_df=1,\n",
              "                                 ngram_range=(1, 1), preprocessor=None,\n",
              "                                 stop_words=None, strip_accents=None,\n",
              "                                 token_pattern='(?u)\\\\b\\\\w\\\\w+\\\\b',\n",
              "                                 tokenizer=None, vocabulary=None)),\n",
              "                ('TF-IDF',\n",
              "                 TfidfTransformer(norm='l2', smooth_idf=True,\n",
              "                                  sublinear_tf=False, use_idf=True)),\n",
              "                ('Classifier',\n",
              "                 MultinomialNB(alpha=1.0, class_prior=None, fit_prior=True))],\n",
              "         verbose=False)"
            ]
          },
          "metadata": {
            "tags": []
          },
          "execution_count": 32
        }
      ]
    },
    {
      "cell_type": "code",
      "metadata": {
        "id": "mqvtXiGtmXlV",
        "colab_type": "code",
        "colab": {
          "base_uri": "https://localhost:8080/",
          "height": 399
        },
        "outputId": "c8348d81-6113-4870-b0c7-3aadcb3d2f25"
      },
      "source": [
        "pipeline2.fit(X_train,y_train)"
      ],
      "execution_count": 33,
      "outputs": [
        {
          "output_type": "execute_result",
          "data": {
            "text/plain": [
              "Pipeline(memory=None,\n",
              "         steps=[('Bag_Of_Words',\n",
              "                 CountVectorizer(analyzer=<function text_processing at 0x7fb424cc2510>,\n",
              "                                 binary=False, decode_error='strict',\n",
              "                                 dtype=<class 'numpy.int64'>, encoding='utf-8',\n",
              "                                 input='content', lowercase=True, max_df=1.0,\n",
              "                                 max_features=None, min_df=1,\n",
              "                                 ngram_range=(1, 1), preprocessor=None,\n",
              "                                 stop_words=None, strip_accents=None,\n",
              "                                 token_pattern='(?u)\\...\n",
              "                 RandomForestClassifier(bootstrap=True, ccp_alpha=0.0,\n",
              "                                        class_weight=None, criterion='gini',\n",
              "                                        max_depth=None, max_features='auto',\n",
              "                                        max_leaf_nodes=None, max_samples=None,\n",
              "                                        min_impurity_decrease=0.0,\n",
              "                                        min_impurity_split=None,\n",
              "                                        min_samples_leaf=1, min_samples_split=2,\n",
              "                                        min_weight_fraction_leaf=0.0,\n",
              "                                        n_estimators=100, n_jobs=None,\n",
              "                                        oob_score=False, random_state=None,\n",
              "                                        verbose=0, warm_start=False))],\n",
              "         verbose=False)"
            ]
          },
          "metadata": {
            "tags": []
          },
          "execution_count": 33
        }
      ]
    },
    {
      "cell_type": "code",
      "metadata": {
        "id": "vqb0Yh6PE6BJ",
        "colab_type": "code",
        "colab": {
          "base_uri": "https://localhost:8080/",
          "height": 329
        },
        "outputId": "db675e4a-2826-4e71-e4c0-ec80c76bf93d"
      },
      "source": [
        "pipeline3.fit(X_train,y_train)"
      ],
      "execution_count": 34,
      "outputs": [
        {
          "output_type": "execute_result",
          "data": {
            "text/plain": [
              "Pipeline(memory=None,\n",
              "         steps=[('Bag_Of_Words',\n",
              "                 CountVectorizer(analyzer=<function text_processing at 0x7fb424cc2510>,\n",
              "                                 binary=False, decode_error='strict',\n",
              "                                 dtype=<class 'numpy.int64'>, encoding='utf-8',\n",
              "                                 input='content', lowercase=True, max_df=1.0,\n",
              "                                 max_features=None, min_df=1,\n",
              "                                 ngram_range=(1, 1), preprocessor=None,\n",
              "                                 stop_words=None, strip_accents=None,\n",
              "                                 token_pattern='(?u)\\\\b\\\\w\\\\w+\\\\b',\n",
              "                                 tokenizer=None, vocabulary=None)),\n",
              "                ('TF-IDF',\n",
              "                 TfidfTransformer(norm='l2', smooth_idf=True,\n",
              "                                  sublinear_tf=False, use_idf=True)),\n",
              "                ('Classifier',\n",
              "                 BernoulliNB(alpha=1.0, binarize=0.0, class_prior=None,\n",
              "                             fit_prior=True))],\n",
              "         verbose=False)"
            ]
          },
          "metadata": {
            "tags": []
          },
          "execution_count": 34
        }
      ]
    },
    {
      "cell_type": "code",
      "metadata": {
        "id": "Hd7Gq8_tlZrX",
        "colab_type": "code",
        "colab": {}
      },
      "source": [
        "p_test1=pipeline1.predict(X_test)"
      ],
      "execution_count": 35,
      "outputs": []
    },
    {
      "cell_type": "code",
      "metadata": {
        "id": "tuDZF37pmyc4",
        "colab_type": "code",
        "colab": {}
      },
      "source": [
        "p_test2=pipeline2.predict(X_test)"
      ],
      "execution_count": 36,
      "outputs": []
    },
    {
      "cell_type": "code",
      "metadata": {
        "id": "KMUe5WKdE973",
        "colab_type": "code",
        "colab": {}
      },
      "source": [
        "p_test3=pipeline3.predict(X_test)"
      ],
      "execution_count": 37,
      "outputs": []
    },
    {
      "cell_type": "markdown",
      "metadata": {
        "id": "0UFrCZu7v8Nu",
        "colab_type": "text"
      },
      "source": [
        "# **Classification Report for Naive Bayes Classifier**"
      ]
    },
    {
      "cell_type": "code",
      "metadata": {
        "id": "BANOZEWpljkB",
        "colab_type": "code",
        "colab": {
          "base_uri": "https://localhost:8080/",
          "height": 173
        },
        "outputId": "401463eb-2245-42ef-8c51-ae3889e21647"
      },
      "source": [
        "print(classification_report(p_test1,y_test))"
      ],
      "execution_count": 39,
      "outputs": [
        {
          "output_type": "stream",
          "text": [
            "              precision    recall  f1-score   support\n",
            "\n",
            "         ham       1.00      0.96      0.98      1543\n",
            "        spam       0.65      1.00      0.79       129\n",
            "\n",
            "    accuracy                           0.96      1672\n",
            "   macro avg       0.83      0.98      0.88      1672\n",
            "weighted avg       0.97      0.96      0.96      1672\n",
            "\n"
          ],
          "name": "stdout"
        }
      ]
    },
    {
      "cell_type": "markdown",
      "metadata": {
        "id": "4e3axqdxvvYp",
        "colab_type": "text"
      },
      "source": [
        "# **Classification Report for Random Forest Classifier**"
      ]
    },
    {
      "cell_type": "code",
      "metadata": {
        "id": "tkQsi_3pluWW",
        "colab_type": "code",
        "colab": {
          "base_uri": "https://localhost:8080/",
          "height": 173
        },
        "outputId": "73ba8efc-e857-404c-df15-d60731765ac4"
      },
      "source": [
        "print(classification_report(p_test2,y_test))"
      ],
      "execution_count": 41,
      "outputs": [
        {
          "output_type": "stream",
          "text": [
            "              precision    recall  f1-score   support\n",
            "\n",
            "         ham       1.00      0.97      0.98      1516\n",
            "        spam       0.78      0.98      0.87       156\n",
            "\n",
            "    accuracy                           0.97      1672\n",
            "   macro avg       0.89      0.98      0.93      1672\n",
            "weighted avg       0.98      0.97      0.97      1672\n",
            "\n"
          ],
          "name": "stdout"
        }
      ]
    },
    {
      "cell_type": "markdown",
      "metadata": {
        "id": "67k0qeHQF2J2",
        "colab_type": "text"
      },
      "source": [
        "## **Classification Report for Bernoulli Naive Bayes Classifier**"
      ]
    },
    {
      "cell_type": "code",
      "metadata": {
        "id": "wzlzir3NFwxT",
        "colab_type": "code",
        "colab": {
          "base_uri": "https://localhost:8080/",
          "height": 173
        },
        "outputId": "433fffe3-ae6b-4c7a-c929-a6e72efe5fbc"
      },
      "source": [
        "print(classification_report(p_test3,y_test))"
      ],
      "execution_count": 42,
      "outputs": [
        {
          "output_type": "stream",
          "text": [
            "              precision    recall  f1-score   support\n",
            "\n",
            "         ham       1.00      0.96      0.98      1536\n",
            "        spam       0.69      1.00      0.82       136\n",
            "\n",
            "    accuracy                           0.96      1672\n",
            "   macro avg       0.85      0.98      0.90      1672\n",
            "weighted avg       0.97      0.96      0.97      1672\n",
            "\n"
          ],
          "name": "stdout"
        }
      ]
    },
    {
      "cell_type": "code",
      "metadata": {
        "id": "4XD2nMZhpIdP",
        "colab_type": "code",
        "colab": {
          "base_uri": "https://localhost:8080/",
          "height": 35
        },
        "outputId": "deab25f9-f3d9-4124-f38b-1c8bafc39cf9"
      },
      "source": [
        "#@title Naive Bayes classifier spam detector { run: \"auto\", vertical-output: true, display-mode: \"both\" }\n",
        "message = \"XXXMobileMovieClub: To use your credit, click the WAP link in the next txt message or click here>> http://wap. xxxmobilemovieclub.com?n=QJKGIGHJJGCBL\" #@param {type:\"string\"}\n",
        "x=[]\n",
        "x.append(message)\n",
        "if len(x[0])==0:\n",
        "  print(\"Please enter your message\")\n",
        "elif pipeline1.predict(x)[0]=='spam':\n",
        "  print(\"The message you have given is a spam\")\n",
        "else:\n",
        "  print(\"The message you have given is not spam\")\n",
        "x.clear()\n",
        "\n"
      ],
      "execution_count": 43,
      "outputs": [
        {
          "output_type": "stream",
          "text": [
            "The message you have given is not spam\n"
          ],
          "name": "stdout"
        }
      ]
    },
    {
      "cell_type": "code",
      "metadata": {
        "id": "uzvG4yr_sOsM",
        "colab_type": "code",
        "colab": {
          "base_uri": "https://localhost:8080/",
          "height": 35
        },
        "outputId": "1522738c-8057-47b4-8530-9809d58cedc3"
      },
      "source": [
        "#@title Random forest classifier spam detector { run: \"auto\", vertical-output: true, display-mode: \"both\" }\n",
        "message = \"XXXMobileMovieClub: To use your credit, click the WAP link in the next txt message or click here>> http://wap. xxxmobilemovieclub.com?n=QJKGIGHJJGCBL\" #@param {type:\"string\"}\n",
        "x=[]\n",
        "x.append(message)\n",
        "if len(x[0])==0:\n",
        "  print(\"Please enter your message\")\n",
        "elif pipeline2.predict(x)[0]=='spam':\n",
        "  print(\"The message you have given is a spam\")\n",
        "else:\n",
        "  print(\"The message you have given is not spam\")\n",
        "x.clear()\n"
      ],
      "execution_count": 44,
      "outputs": [
        {
          "output_type": "stream",
          "text": [
            "The message you have given is a spam\n"
          ],
          "name": "stdout"
        }
      ]
    },
    {
      "cell_type": "code",
      "metadata": {
        "id": "qp1rxOXgxazb",
        "colab_type": "code",
        "colab": {
          "base_uri": "https://localhost:8080/",
          "height": 35
        },
        "outputId": "171d0b37-a8fa-476c-b3cb-8cb40d44df40"
      },
      "source": [
        "#@title Bernoulli Naive Bayes classifier spam detector { run: \"auto\", vertical-output: true, display-mode: \"both\" }\n",
        "message = \"XXXMobileMovieClub: To use your credit, click the WAP link in the next txt message or click here>> http://wap. xxxmobilemovieclub.com?n=QJKGIGHJJGCBL\" #@param {type:\"string\"}\n",
        "x=[]\n",
        "x.append(message)\n",
        "if len(x[0])==0:\n",
        "  print(\"Please enter your message\")\n",
        "elif pipeline3.predict(x)[0]=='spam':\n",
        "  print(\"The message you have given is a spam\")\n",
        "else:\n",
        "  print(\"The message you have given is not spam\")\n",
        "x.clear()\n"
      ],
      "execution_count": 45,
      "outputs": [
        {
          "output_type": "stream",
          "text": [
            "The message you have given is not spam\n"
          ],
          "name": "stdout"
        }
      ]
    },
    {
      "cell_type": "markdown",
      "metadata": {
        "id": "KGhc_1TKGPR4",
        "colab_type": "text"
      },
      "source": [
        "## **Conclusion**"
      ]
    },
    {
      "cell_type": "markdown",
      "metadata": {
        "id": "hi8DPVmnxMT3",
        "colab_type": "text"
      },
      "source": [
        "We can see the random forest classifier performance is well than others!!!"
      ]
    },
    {
      "cell_type": "code",
      "metadata": {
        "id": "IrS69Pm5GM1d",
        "colab_type": "code",
        "colab": {}
      },
      "source": [
        ""
      ],
      "execution_count": null,
      "outputs": []
    }
  ]
}